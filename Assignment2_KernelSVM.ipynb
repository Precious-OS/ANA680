{
 "cells": [
  {
   "cell_type": "code",
   "execution_count": 3,
   "id": "84bd429e-d6a4-432d-ad4c-bf58fe297442",
   "metadata": {},
   "outputs": [
    {
     "name": "stdout",
     "output_type": "stream",
     "text": [
      "RBF Kernel SVM Performance:\n",
      "- Cross-validation Accuracy (5-fold): 0.9668\n",
      "- Test Accuracy: 0.9649\n",
      "- Precision: 0.922 | Recall: 0.983\n",
      "- F1-Score: 0.952 | Gamma: scale\n"
     ]
    },
    {
     "data": {
      "text/html": [
       "<div>\n",
       "<style scoped>\n",
       "    .dataframe tbody tr th:only-of-type {\n",
       "        vertical-align: middle;\n",
       "    }\n",
       "\n",
       "    .dataframe tbody tr th {\n",
       "        vertical-align: top;\n",
       "    }\n",
       "\n",
       "    .dataframe thead th {\n",
       "        text-align: right;\n",
       "    }\n",
       "</style>\n",
       "<table border=\"1\" class=\"dataframe\">\n",
       "  <thead>\n",
       "    <tr style=\"text-align: right;\">\n",
       "      <th></th>\n",
       "      <th>Predicted Benign</th>\n",
       "      <th>Predicted Malignant</th>\n",
       "    </tr>\n",
       "  </thead>\n",
       "  <tbody>\n",
       "    <tr>\n",
       "      <th>Actual Benign (TN/FP)</th>\n",
       "      <td>106</td>\n",
       "      <td>5</td>\n",
       "    </tr>\n",
       "    <tr>\n",
       "      <th>Actual Malignant (FN/TP)</th>\n",
       "      <td>1</td>\n",
       "      <td>59</td>\n",
       "    </tr>\n",
       "  </tbody>\n",
       "</table>\n",
       "</div>"
      ],
      "text/plain": [
       "                          Predicted Benign  Predicted Malignant\n",
       "Actual Benign (TN/FP)                  106                    5\n",
       "Actual Malignant (FN/TP)                 1                   59"
      ]
     },
     "execution_count": 3,
     "metadata": {},
     "output_type": "execute_result"
    }
   ],
   "source": [
    "from ucimlrepo import fetch_ucirepo\n",
    "import pandas as pd\n",
    "import numpy as np\n",
    "from sklearn.model_selection import train_test_split, cross_val_score\n",
    "from sklearn.preprocessing import StandardScaler\n",
    "from sklearn.svm import SVC\n",
    "from sklearn.metrics import accuracy_score, confusion_matrix, precision_score, recall_score, f1_score\n",
    "\n",
    "# Load and preprocess data\n",
    "breast_cancer = fetch_ucirepo(id=15)\n",
    "X = breast_cancer.data.features.replace('?', np.nan).apply(pd.to_numeric).dropna()\n",
    "y = breast_cancer.data.targets.loc[X.index].replace({2:0, 4:1})\n",
    "\n",
    "# Split and scale\n",
    "X_train, X_test, y_train, y_test = train_test_split(X, y, test_size=0.25, random_state=42, stratify=y)\n",
    "scaler = StandardScaler()\n",
    "X_train_scaled = scaler.fit_transform(X_train)\n",
    "X_test_scaled = scaler.transform(X_test)\n",
    "\n",
    "# RBF Kernel SVM\n",
    "rbf_svm = SVC(kernel='rbf', C=1.0, gamma='scale', random_state=42)\n",
    "rbf_svm.fit(X_train_scaled, y_train.values.ravel())\n",
    "\n",
    "# Cross-validation\n",
    "cv_scores = cross_val_score(rbf_svm, X_train_scaled, y_train.values.ravel(), cv=5)\n",
    "\n",
    "# Predictions and evaluation\n",
    "y_pred = rbf_svm.predict(X_test_scaled)\n",
    "conf_matrix = confusion_matrix(y_test, y_pred)\n",
    "\n",
    "# Performance metrics\n",
    "metrics = {\n",
    "    'Accuracy': accuracy_score(y_test, y_pred),\n",
    "    'Precision': precision_score(y_test, y_pred),\n",
    "    'Recall': recall_score(y_test, y_pred),\n",
    "    'F1-Score': f1_score(y_test, y_pred),\n",
    "    'CV Mean': cv_scores.mean(),\n",
    "    'Gamma Used': rbf_svm.gamma\n",
    "}\n",
    "\n",
    "# Display results\n",
    "print(\"RBF Kernel SVM Performance:\")\n",
    "print(f\"- Cross-validation Accuracy (5-fold): {metrics['CV Mean']:.4f}\")\n",
    "print(f\"- Test Accuracy: {metrics['Accuracy']:.4f}\")\n",
    "print(f\"- Precision: {metrics['Precision']:.3f} | Recall: {metrics['Recall']:.3f}\")\n",
    "print(f\"- F1-Score: {metrics['F1-Score']:.3f} | Gamma: {metrics['Gamma Used']}\")\n",
    "\n",
    "pd.DataFrame(conf_matrix,\n",
    "             index=['Actual Benign (TN/FP)', 'Actual Malignant (FN/TP)'],\n",
    "             columns=['Predicted Benign', 'Predicted Malignant'])"
   ]
  },
  {
   "cell_type": "code",
   "execution_count": null,
   "id": "380cd9ad-8277-467e-b7ec-0498589b4b49",
   "metadata": {},
   "outputs": [],
   "source": []
  }
 ],
 "metadata": {
  "kernelspec": {
   "display_name": "Python [conda env:base] *",
   "language": "python",
   "name": "conda-base-py"
  },
  "language_info": {
   "codemirror_mode": {
    "name": "ipython",
    "version": 3
   },
   "file_extension": ".py",
   "mimetype": "text/x-python",
   "name": "python",
   "nbconvert_exporter": "python",
   "pygments_lexer": "ipython3",
   "version": "3.12.7"
  }
 },
 "nbformat": 4,
 "nbformat_minor": 5
}
