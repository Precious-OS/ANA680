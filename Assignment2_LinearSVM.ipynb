{
 "cells": [
  {
   "cell_type": "code",
   "execution_count": 3,
   "id": "198f2f6a-b0c8-4804-95a3-49763e411984",
   "metadata": {},
   "outputs": [
    {
     "name": "stdout",
     "output_type": "stream",
     "text": [
      "Linear SVM Performance:\n",
      "- Cross-validation Accuracy (5-fold): 0.9726\n",
      "- Test Set Accuracy: 0.9591\n",
      "- Precision: 0.921 | Recall: 0.967 | F1: 0.943\n"
     ]
    },
    {
     "data": {
      "text/html": [
       "<div>\n",
       "<style scoped>\n",
       "    .dataframe tbody tr th:only-of-type {\n",
       "        vertical-align: middle;\n",
       "    }\n",
       "\n",
       "    .dataframe tbody tr th {\n",
       "        vertical-align: top;\n",
       "    }\n",
       "\n",
       "    .dataframe thead th {\n",
       "        text-align: right;\n",
       "    }\n",
       "</style>\n",
       "<table border=\"1\" class=\"dataframe\">\n",
       "  <thead>\n",
       "    <tr style=\"text-align: right;\">\n",
       "      <th></th>\n",
       "      <th>Predicted Benign</th>\n",
       "      <th>Predicted Malignant</th>\n",
       "    </tr>\n",
       "  </thead>\n",
       "  <tbody>\n",
       "    <tr>\n",
       "      <th>Actual Benign (TN/FP)</th>\n",
       "      <td>106</td>\n",
       "      <td>5</td>\n",
       "    </tr>\n",
       "    <tr>\n",
       "      <th>Actual Malignant (FN/TP)</th>\n",
       "      <td>2</td>\n",
       "      <td>58</td>\n",
       "    </tr>\n",
       "  </tbody>\n",
       "</table>\n",
       "</div>"
      ],
      "text/plain": [
       "                          Predicted Benign  Predicted Malignant\n",
       "Actual Benign (TN/FP)                  106                    5\n",
       "Actual Malignant (FN/TP)                 2                   58"
      ]
     },
     "execution_count": 3,
     "metadata": {},
     "output_type": "execute_result"
    }
   ],
   "source": [
    "from ucimlrepo import fetch_ucirepo\n",
    "import pandas as pd\n",
    "import numpy as np\n",
    "from sklearn.model_selection import train_test_split, cross_val_score\n",
    "from sklearn.preprocessing import StandardScaler\n",
    "from sklearn.svm import SVC\n",
    "from sklearn.metrics import accuracy_score, confusion_matrix, precision_score, recall_score, f1_score\n",
    "\n",
    "# Load and preprocess data\n",
    "breast_cancer = fetch_ucirepo(id=15)\n",
    "X = breast_cancer.data.features.replace('?', np.nan).apply(pd.to_numeric).dropna()\n",
    "y = breast_cancer.data.targets.loc[X.index].replace({2:0, 4:1})\n",
    "\n",
    "# Split and scale\n",
    "X_train, X_test, y_train, y_test = train_test_split(X, y, test_size=0.25, random_state=42, stratify=y)\n",
    "scaler = StandardScaler()\n",
    "X_train_scaled = scaler.fit_transform(X_train)\n",
    "X_test_scaled = scaler.transform(X_test)\n",
    "\n",
    "# Enhanced SVM implementation\n",
    "svm_linear = SVC(kernel='linear', C=1.0, random_state=42)\n",
    "svm_linear.fit(X_train_scaled, y_train.values.ravel())\n",
    "\n",
    "# Cross-validation\n",
    "cv_scores = cross_val_score(svm_linear, X_train_scaled, y_train.values.ravel(), cv=5)\n",
    "\n",
    "# Predictions\n",
    "y_pred = svm_linear.predict(X_test_scaled)\n",
    "\n",
    "# Comprehensive evaluation\n",
    "conf_matrix = confusion_matrix(y_test, y_pred)\n",
    "metrics = {\n",
    "    'Accuracy': accuracy_score(y_test, y_pred),\n",
    "    'Precision': precision_score(y_test, y_pred),\n",
    "    'Recall': recall_score(y_test, y_pred),\n",
    "    'F1-Score': f1_score(y_test, y_pred),\n",
    "    'CV Mean Score': cv_scores.mean()\n",
    "}\n",
    "\n",
    "# Display results\n",
    "print(\"Linear SVM Performance:\")\n",
    "print(f\"- Cross-validation Accuracy (5-fold): {metrics['CV Mean Score']:.4f}\")\n",
    "print(f\"- Test Set Accuracy: {metrics['Accuracy']:.4f}\")\n",
    "print(f\"- Precision: {metrics['Precision']:.3f} | Recall: {metrics['Recall']:.3f} | F1: {metrics['F1-Score']:.3f}\")\n",
    "\n",
    "pd.DataFrame(conf_matrix,\n",
    "             index=['Actual Benign (TN/FP)', 'Actual Malignant (FN/TP)'],\n",
    "             columns=['Predicted Benign', 'Predicted Malignant'])"
   ]
  },
  {
   "cell_type": "code",
   "execution_count": null,
   "id": "cd3efedb-af4f-43c4-9b9f-967055dd1416",
   "metadata": {},
   "outputs": [],
   "source": []
  }
 ],
 "metadata": {
  "kernelspec": {
   "display_name": "Python [conda env:base] *",
   "language": "python",
   "name": "conda-base-py"
  },
  "language_info": {
   "codemirror_mode": {
    "name": "ipython",
    "version": 3
   },
   "file_extension": ".py",
   "mimetype": "text/x-python",
   "name": "python",
   "nbconvert_exporter": "python",
   "pygments_lexer": "ipython3",
   "version": "3.12.7"
  }
 },
 "nbformat": 4,
 "nbformat_minor": 5
}
