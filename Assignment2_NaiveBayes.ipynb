{
 "cells": [
  {
   "cell_type": "code",
   "execution_count": 5,
   "id": "5beed12c-3709-4bbf-88fa-fe3e2298f529",
   "metadata": {},
   "outputs": [
    {
     "name": "stdout",
     "output_type": "stream",
     "text": [
      "Gaussian Naïve Bayes Performance:\n",
      "- Accuracy: 0.9591\n",
      "- Precision: 0.921 | Recall: 0.967\n",
      "- F1-Score: 0.943 | AUC-ROC: 0.980\n",
      "\n",
      "Class Conditional Means (Malignant vs Benign):\n"
     ]
    },
    {
     "data": {
      "text/html": [
       "<div>\n",
       "<style scoped>\n",
       "    .dataframe tbody tr th:only-of-type {\n",
       "        vertical-align: middle;\n",
       "    }\n",
       "\n",
       "    .dataframe tbody tr th {\n",
       "        vertical-align: top;\n",
       "    }\n",
       "\n",
       "    .dataframe thead th {\n",
       "        text-align: right;\n",
       "    }\n",
       "</style>\n",
       "<table border=\"1\" class=\"dataframe\">\n",
       "  <thead>\n",
       "    <tr style=\"text-align: right;\">\n",
       "      <th></th>\n",
       "      <th>Predicted Benign</th>\n",
       "      <th>Predicted Malignant</th>\n",
       "    </tr>\n",
       "  </thead>\n",
       "  <tbody>\n",
       "    <tr>\n",
       "      <th>Actual Benign (TN/FP)</th>\n",
       "      <td>106</td>\n",
       "      <td>5</td>\n",
       "    </tr>\n",
       "    <tr>\n",
       "      <th>Actual Malignant (FN/TP)</th>\n",
       "      <td>2</td>\n",
       "      <td>58</td>\n",
       "    </tr>\n",
       "  </tbody>\n",
       "</table>\n",
       "</div>"
      ],
      "text/plain": [
       "                          Predicted Benign  Predicted Malignant\n",
       "Actual Benign (TN/FP)                  106                    5\n",
       "Actual Malignant (FN/TP)                 2                   58"
      ]
     },
     "execution_count": 5,
     "metadata": {},
     "output_type": "execute_result"
    }
   ],
   "source": [
    "from ucimlrepo import fetch_ucirepo\n",
    "import pandas as pd\n",
    "import numpy as np\n",
    "from sklearn.model_selection import train_test_split\n",
    "from sklearn.preprocessing import StandardScaler\n",
    "from sklearn.naive_bayes import GaussianNB\n",
    "from sklearn.metrics import accuracy_score, confusion_matrix, precision_score, recall_score, f1_score, roc_auc_score\n",
    "\n",
    "# Load and preprocess data\n",
    "breast_cancer = fetch_ucirepo(id=15)\n",
    "X = breast_cancer.data.features.replace('?', np.nan).apply(pd.to_numeric).dropna()\n",
    "y = breast_cancer.data.targets.loc[X.index].replace({2:0, 4:1})\n",
    "\n",
    "# Split data (no scaling required for Naïve Bayes, but included for consistency)\n",
    "X_train, X_test, y_train, y_test = train_test_split(X, y, test_size=0.25, random_state=42, stratify=y)\n",
    "\n",
    "# Train Gaussian Naïve Bayes\n",
    "nb = GaussianNB(var_smoothing=1e-9)\n",
    "nb.fit(X_train, y_train.values.ravel())\n",
    "\n",
    "# Get probability estimates\n",
    "probabilities = nb.predict_proba(X_test)[:, 1]\n",
    "\n",
    "# Predictions with 0.5 threshold\n",
    "y_pred = nb.predict(X_test)\n",
    "\n",
    "# Performance evaluation\n",
    "conf_matrix = confusion_matrix(y_test, y_pred)\n",
    "metrics = {\n",
    "    'Accuracy': accuracy_score(y_test, y_pred),\n",
    "    'Precision': precision_score(y_test, y_pred),\n",
    "    'Recall': recall_score(y_test, y_pred),\n",
    "    'F1-Score': f1_score(y_test, y_pred),\n",
    "    'AUC-ROC': roc_auc_score(y_test, probabilities)\n",
    "}\n",
    "\n",
    "# Display results with Bayesian probabilities\n",
    "print(\"Gaussian Naïve Bayes Performance:\")\n",
    "print(f\"- Accuracy: {metrics['Accuracy']:.4f}\")\n",
    "print(f\"- Precision: {metrics['Precision']:.3f} | Recall: {metrics['Recall']:.3f}\")\n",
    "print(f\"- F1-Score: {metrics['F1-Score']:.3f} | AUC-ROC: {metrics['AUC-ROC']:.3f}\")\n",
    "\n",
    "print(\"\\nClass Conditional Means (Malignant vs Benign):\")\n",
    "pd.DataFrame({\n",
    "    'Feature': X.columns,\n",
    "    'Mean (Benign)': nb.theta_[0],\n",
    "    'Mean (Malignant)': nb.theta_[1]\n",
    "})\n",
    "\n",
    "pd.DataFrame(conf_matrix,\n",
    "             index=['Actual Benign (TN/FP)', 'Actual Malignant (FN/TP)'],\n",
    "             columns=['Predicted Benign', 'Predicted Malignant'])"
   ]
  },
  {
   "cell_type": "code",
   "execution_count": null,
   "id": "d28b3e8e-82eb-4082-9e6a-32f7acebdf06",
   "metadata": {},
   "outputs": [],
   "source": []
  }
 ],
 "metadata": {
  "kernelspec": {
   "display_name": "Python [conda env:base] *",
   "language": "python",
   "name": "conda-base-py"
  },
  "language_info": {
   "codemirror_mode": {
    "name": "ipython",
    "version": 3
   },
   "file_extension": ".py",
   "mimetype": "text/x-python",
   "name": "python",
   "nbconvert_exporter": "python",
   "pygments_lexer": "ipython3",
   "version": "3.12.7"
  }
 },
 "nbformat": 4,
 "nbformat_minor": 5
}
