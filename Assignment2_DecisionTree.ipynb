{
 "cells": [
  {
   "cell_type": "code",
   "execution_count": 3,
   "id": "8fb67c1e-8a88-44da-81e7-9da39dfd01cc",
   "metadata": {},
   "outputs": [
    {
     "name": "stdout",
     "output_type": "stream",
     "text": [
      "Decision Tree Performance:\n",
      "- Accuracy: 0.9532\n",
      "- Precision: 0.882 | Recall: 1.000\n",
      "- F1-Score: 0.938\n",
      "\n",
      "Top 5 Important Features:\n",
      "Uniformity_of_cell_shape    0.816252\n",
      "Bare_nuclei                 0.123832\n",
      "Uniformity_of_cell_size     0.044221\n",
      "Marginal_adhesion           0.015695\n",
      "Clump_thickness             0.000000\n"
     ]
    },
    {
     "data": {
      "text/html": [
       "<div>\n",
       "<style scoped>\n",
       "    .dataframe tbody tr th:only-of-type {\n",
       "        vertical-align: middle;\n",
       "    }\n",
       "\n",
       "    .dataframe tbody tr th {\n",
       "        vertical-align: top;\n",
       "    }\n",
       "\n",
       "    .dataframe thead th {\n",
       "        text-align: right;\n",
       "    }\n",
       "</style>\n",
       "<table border=\"1\" class=\"dataframe\">\n",
       "  <thead>\n",
       "    <tr style=\"text-align: right;\">\n",
       "      <th></th>\n",
       "      <th>Predicted Benign</th>\n",
       "      <th>Predicted Malignant</th>\n",
       "    </tr>\n",
       "  </thead>\n",
       "  <tbody>\n",
       "    <tr>\n",
       "      <th>Actual Benign (TN/FP)</th>\n",
       "      <td>103</td>\n",
       "      <td>8</td>\n",
       "    </tr>\n",
       "    <tr>\n",
       "      <th>Actual Malignant (FN/TP)</th>\n",
       "      <td>0</td>\n",
       "      <td>60</td>\n",
       "    </tr>\n",
       "  </tbody>\n",
       "</table>\n",
       "</div>"
      ],
      "text/plain": [
       "                          Predicted Benign  Predicted Malignant\n",
       "Actual Benign (TN/FP)                  103                    8\n",
       "Actual Malignant (FN/TP)                 0                   60"
      ]
     },
     "execution_count": 3,
     "metadata": {},
     "output_type": "execute_result"
    }
   ],
   "source": [
    "from ucimlrepo import fetch_ucirepo\n",
    "import pandas as pd\n",
    "import numpy as np\n",
    "from sklearn.model_selection import train_test_split\n",
    "from sklearn.tree import DecisionTreeClassifier, plot_tree\n",
    "from sklearn.metrics import accuracy_score, confusion_matrix, precision_score, recall_score, f1_score\n",
    "\n",
    "# Load and preprocess data\n",
    "breast_cancer = fetch_ucirepo(id=15)\n",
    "X = breast_cancer.data.features.replace('?', np.nan).apply(pd.to_numeric).dropna()\n",
    "y = breast_cancer.data.targets.loc[X.index].replace({2:0, 4:1})\n",
    "\n",
    "# Split data (no scaling needed for decision trees)\n",
    "X_train, X_test, y_train, y_test = train_test_split(X, y, test_size=0.25, random_state=42, stratify=y)\n",
    "\n",
    "# Train Decision Tree\n",
    "dt = DecisionTreeClassifier(max_depth=5, min_samples_split=20, criterion='gini', random_state=42)\n",
    "dt.fit(X_train, y_train.values.ravel())\n",
    "\n",
    "# Feature importance analysis\n",
    "feature_imp = pd.Series(dt.feature_importances_, index=X.columns)\n",
    "top_features = feature_imp.sort_values(ascending=False).head(5)\n",
    "\n",
    "# Predictions and evaluation\n",
    "y_pred = dt.predict(X_test)\n",
    "conf_matrix = confusion_matrix(y_test, y_pred)\n",
    "\n",
    "# Performance metrics\n",
    "metrics = {\n",
    "    'Accuracy': accuracy_score(y_test, y_pred),\n",
    "    'Precision': precision_score(y_test, y_pred),\n",
    "    'Recall': recall_score(y_test, y_pred),\n",
    "    'F1-Score': f1_score(y_test, y_pred),\n",
    "    'Top Features': top_features\n",
    "}\n",
    "\n",
    "# Display results\n",
    "print(\"Decision Tree Performance:\")\n",
    "print(f\"- Accuracy: {metrics['Accuracy']:.4f}\")\n",
    "print(f\"- Precision: {metrics['Precision']:.3f} | Recall: {metrics['Recall']:.3f}\")\n",
    "print(f\"- F1-Score: {metrics['F1-Score']:.3f}\\n\")\n",
    "\n",
    "print(\"Top 5 Important Features:\")\n",
    "print(metrics['Top Features'].to_string())\n",
    "\n",
    "pd.DataFrame(conf_matrix,\n",
    "             index=['Actual Benign (TN/FP)', 'Actual Malignant (FN/TP)'],\n",
    "             columns=['Predicted Benign', 'Predicted Malignant'])"
   ]
  },
  {
   "cell_type": "code",
   "execution_count": null,
   "id": "9ce682aa-a755-4128-a18f-f54303e0e57e",
   "metadata": {},
   "outputs": [],
   "source": []
  }
 ],
 "metadata": {
  "kernelspec": {
   "display_name": "Python [conda env:base] *",
   "language": "python",
   "name": "conda-base-py"
  },
  "language_info": {
   "codemirror_mode": {
    "name": "ipython",
    "version": 3
   },
   "file_extension": ".py",
   "mimetype": "text/x-python",
   "name": "python",
   "nbconvert_exporter": "python",
   "pygments_lexer": "ipython3",
   "version": "3.12.7"
  }
 },
 "nbformat": 4,
 "nbformat_minor": 5
}
