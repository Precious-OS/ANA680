{
 "cells": [
  {
   "cell_type": "code",
   "id": "84bd429e-d6a4-432d-ad4c-bf58fe297442",
   "metadata": {
    "ExecuteTime": {
     "end_time": "2025-02-16T20:58:24.974631Z",
     "start_time": "2025-02-16T20:58:22.756126Z"
    }
   },
   "source": [
    "from ucimlrepo import fetch_ucirepo\n",
    "import pandas as pd\n",
    "import numpy as np\n",
    "from sklearn.model_selection import train_test_split, cross_val_score\n",
    "from sklearn.preprocessing import StandardScaler\n",
    "from sklearn.svm import SVC\n",
    "from sklearn.metrics import accuracy_score, confusion_matrix, precision_score, recall_score, f1_score\n",
    "from sklearn.inspection import permutation_importance\n",
    "\n",
    "\n",
    "# Load and preprocess data\n",
    "breast_cancer = fetch_ucirepo(id=15)\n",
    "X = breast_cancer.data.features.replace('?', np.nan).apply(pd.to_numeric).dropna()\n",
    "y = breast_cancer.data.targets.loc[X.index].replace({2:0, 4:1})\n",
    "\n",
    "# Split and scale\n",
    "X_train, X_test, y_train, y_test = train_test_split(X, y, test_size=0.25, random_state=42, stratify=y)\n",
    "scaler = StandardScaler()\n",
    "X_train_scaled = scaler.fit_transform(X_train)\n",
    "X_test_scaled = scaler.transform(X_test)\n",
    "\n",
    "# RBF Kernel SVM\n",
    "rbf_svm = SVC(kernel='rbf', C=1.0, gamma='scale', random_state=42)\n",
    "rbf_svm.fit(X_train_scaled, y_train.values.ravel())\n",
    "\n",
    "# Cross-validation\n",
    "cv_scores = cross_val_score(rbf_svm, X_train_scaled, y_train.values.ravel(), cv=5)\n",
    "\n",
    "# Predictions and evaluation\n",
    "y_pred = rbf_svm.predict(X_test_scaled)\n",
    "conf_matrix = confusion_matrix(y_test, y_pred)\n",
    "\n",
    "# Performance metrics\n",
    "metrics = {\n",
    "    'Accuracy': accuracy_score(y_test, y_pred),\n",
    "    'Precision': precision_score(y_test, y_pred),\n",
    "    'Recall': recall_score(y_test, y_pred),\n",
    "    'F1-Score': f1_score(y_test, y_pred),\n",
    "    'CV Mean': cv_scores.mean(),\n",
    "    'Gamma Used': rbf_svm.gamma\n",
    "}\n",
    "\n",
    "# Display results\n",
    "print(\"RBF Kernel SVM Performance:\")\n",
    "print(f\"- Cross-validation Accuracy (5-fold): {metrics['CV Mean']:.4f}\")\n",
    "print(f\"- Test Accuracy: {metrics['Accuracy']:.4f}\")\n",
    "print(f\"- Precision: {metrics['Precision']:.3f} | Recall: {metrics['Recall']:.3f}\")\n",
    "print(f\"- F1-Score: {metrics['F1-Score']:.3f} | Gamma: {metrics['Gamma Used']}\")\n",
    "\n",
    "pd.DataFrame(conf_matrix,\n",
    "             index=['Actual Benign (TN/FP)', 'Actual Malignant (FN/TP)'],\n",
    "             columns=['Predicted Benign', 'Predicted Malignant'])\n",
    "\n",
    "# Compute permutation importance\n",
    "result = permutation_importance(rbf_svm, X_test_scaled, y_test.values.ravel(), n_repeats=10, random_state=42)\n",
    "\n",
    "# Create a DataFrame to display permutation importance\n",
    "perm_importance_df = pd.DataFrame({\n",
    "    'Feature': X.columns,\n",
    "    'Importance': result.importances_mean\n",
    "}).sort_values(by='Importance', ascending=False)\n",
    "\n",
    "print(\"Permutation Importance Ranking:\")\n",
    "print(perm_importance_df)"
   ],
   "outputs": [
    {
     "name": "stdout",
     "output_type": "stream",
     "text": [
      "RBF Kernel SVM Performance:\n",
      "- Cross-validation Accuracy (5-fold): 0.9668\n",
      "- Test Accuracy: 0.9649\n",
      "- Precision: 0.922 | Recall: 0.983\n",
      "- F1-Score: 0.952 | Gamma: scale\n",
      "Permutation Importance Ranking:\n",
      "                       Feature  Importance\n",
      "5                  Bare_nuclei    0.073099\n",
      "7              Normal_nucleoli    0.038596\n",
      "0              Clump_thickness    0.011696\n",
      "2     Uniformity_of_cell_shape    0.011696\n",
      "4  Single_epithelial_cell_size    0.010526\n",
      "6              Bland_chromatin    0.006433\n",
      "3            Marginal_adhesion    0.003509\n",
      "8                      Mitoses    0.001754\n",
      "1      Uniformity_of_cell_size   -0.000585\n"
     ]
    }
   ],
   "execution_count": 4
  },
  {
   "cell_type": "code",
   "id": "380cd9ad-8277-467e-b7ec-0498589b4b49",
   "metadata": {
    "ExecuteTime": {
     "end_time": "2025-02-16T20:58:24.984097Z",
     "start_time": "2025-02-16T20:58:24.980803Z"
    }
   },
   "source": [],
   "outputs": [],
   "execution_count": null
  }
 ],
 "metadata": {
  "kernelspec": {
   "display_name": "Python [conda env:base] *",
   "language": "python",
   "name": "conda-base-py"
  },
  "language_info": {
   "codemirror_mode": {
    "name": "ipython",
    "version": 3
   },
   "file_extension": ".py",
   "mimetype": "text/x-python",
   "name": "python",
   "nbconvert_exporter": "python",
   "pygments_lexer": "ipython3",
   "version": "3.12.7"
  }
 },
 "nbformat": 4,
 "nbformat_minor": 5
}
