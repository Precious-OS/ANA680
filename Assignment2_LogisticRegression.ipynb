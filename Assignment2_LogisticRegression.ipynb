{
 "cells": [
  {
   "cell_type": "code",
   "execution_count": null,
   "id": "89b1eb83-87e0-45ad-aa23-3309bd65934c",
   "metadata": {},
   "outputs": [],
   "source": [
    "Create models: Logistic Regression"
   ]
  },
  {
   "cell_type": "code",
   "execution_count": 2,
   "id": "d48aaa2b-879f-4df1-9544-30c824fd3743",
   "metadata": {},
   "outputs": [
    {
     "name": "stdout",
     "output_type": "stream",
     "text": [
      "Linear Regression Accuracy: 0.9657\n",
      "\n",
      "Confusion Matrix with Error Types:\n",
      "                          Predicted Benign  Predicted Malignant\n",
      "Actual Benign (TN/FP)                  117                    1\n",
      "Actual Malignant (FN/TP)                 5                   52\n"
     ]
    }
   ],
   "source": [
    "from ucimlrepo import fetch_ucirepo\n",
    "import pandas as pd\n",
    "import numpy as np\n",
    "from sklearn.model_selection import train_test_split\n",
    "from sklearn.preprocessing import StandardScaler\n",
    "from sklearn.linear_model import LogisticRegression\n",
    "from sklearn.metrics import accuracy_score, confusion_matrix\n",
    "\n",
    "# Load and preprocess data\n",
    "breast_cancer = fetch_ucirepo(id=15)\n",
    "X = breast_cancer.data.features\n",
    "y = breast_cancer.data.targets['Class'].replace({2:0, 4:1})\n",
    "\n",
    "# Handle missing values (entries with '?')\n",
    "X = X.replace('?', np.nan).apply(pd.to_numeric)\n",
    "X = X.fillna(X.mean())\n",
    "\n",
    "# Split dataset\n",
    "X_train, X_test, y_train, y_test = train_test_split(X, y, test_size=0.25, random_state=42)\n",
    "\n",
    "# Feature scaling\n",
    "scaler = StandardScaler()\n",
    "X_train_scaled = scaler.fit_transform(X_train)\n",
    "X_test_scaled = scaler.transform(X_test)\n",
    "\n",
    "# Initialize and train Logistic Regression\n",
    "logreg = LogisticRegression()\n",
    "logreg.fit(X_train_scaled, y_train)\n",
    "\n",
    "# Make predictions\n",
    "y_pred = logreg.predict(X_test_scaled)\n",
    "\n",
    "# Evaluate model\n",
    "accuracy = accuracy_score(y_test, y_pred)\n",
    "cm = confusion_matrix(y_test, y_pred)\n",
    "\n",
    "# Create labeled confusion matrix with error types\n",
    "conf_matrix_df = pd.DataFrame(\n",
    "    cm,\n",
    "    index=['Actual Benign (TN/FP)', 'Actual Malignant (FN/TP)'],\n",
    "    columns=['Predicted Benign', 'Predicted Malignant']\n",
    ")\n",
    "\n",
    "# Display results\n",
    "print(f\"Linear Regression Accuracy: {accuracy:.4f}\\n\")\n",
    "print(\"Confusion Matrix with Error Types:\")\n",
    "print(conf_matrix_df)"
   ]
  }
 ],
 "metadata": {
  "kernelspec": {
   "display_name": "Python [conda env:base] *",
   "language": "python",
   "name": "conda-base-py"
  },
  "language_info": {
   "codemirror_mode": {
    "name": "ipython",
    "version": 3
   },
   "file_extension": ".py",
   "mimetype": "text/x-python",
   "name": "python",
   "nbconvert_exporter": "python",
   "pygments_lexer": "ipython3",
   "version": "3.12.7"
  }
 },
 "nbformat": 4,
 "nbformat_minor": 5
}
