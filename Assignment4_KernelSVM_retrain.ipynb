{
 "cells": [
  {
   "cell_type": "code",
   "id": "84bd429e-d6a4-432d-ad4c-bf58fe297442",
   "metadata": {
    "ExecuteTime": {
     "end_time": "2025-02-16T22:47:17.700921Z",
     "start_time": "2025-02-16T22:47:16.306055Z"
    }
   },
   "source": [
    "from ucimlrepo import fetch_ucirepo\n",
    "import pandas as pd\n",
    "import numpy as np\n",
    "from sklearn.model_selection import train_test_split\n",
    "from sklearn.preprocessing import StandardScaler\n",
    "from sklearn.svm import SVC\n",
    "import pickle\n",
    "\n",
    "# Load and preprocess data\n",
    "breast_cancer = fetch_ucirepo(id=15)\n",
    "X = breast_cancer.data.features.replace('?', np.nan).apply(pd.to_numeric).dropna()\n",
    "y = breast_cancer.data.targets.loc[X.index].replace({2:0, 4:1})\n",
    "\n",
    "# Select top 5 features\n",
    "top_features = ['Bare_nuclei', 'Normal_nucleoli', 'Clump_thickness', 'Uniformity_of_cell_shape', 'Single_epithelial_cell_size']\n",
    "X_top = X[top_features]\n",
    "\n",
    "# Split and scale\n",
    "X_train, X_test, y_train, y_test = train_test_split(X_top, y, test_size=0.25, random_state=42, stratify=y)\n",
    "scaler = StandardScaler()\n",
    "X_train_scaled = scaler.fit_transform(X_train)\n",
    "X_test_scaled = scaler.transform(X_test)\n",
    "\n",
    "# Train the model\n",
    "rbf_svm = SVC(kernel='rbf', C=1.0, gamma='scale', random_state=42)\n",
    "rbf_svm.fit(X_train_scaled, y_train.values.ravel())\n",
    "\n",
    "# Save the model and scaler as pickle files\n",
    "with open('rbf_svm_model.pkl', 'wb') as file:\n",
    "    pickle.dump(rbf_svm, file)\n",
    "\n",
    "with open('scaler.pkl', 'wb') as file:\n",
    "    pickle.dump(scaler, file)\n",
    "\n",
    "print(\"Model and scaler saved as 'rbf_svm_model.pkl' and 'scaler.pkl'.\")\n"
   ],
   "outputs": [
    {
     "name": "stdout",
     "output_type": "stream",
     "text": [
      "Model and scaler saved as 'rbf_svm_model.pkl' and 'scaler.pkl'.\n"
     ]
    }
   ],
   "execution_count": 2
  },
  {
   "cell_type": "code",
   "id": "380cd9ad-8277-467e-b7ec-0498589b4b49",
   "metadata": {
    "ExecuteTime": {
     "end_time": "2025-02-16T20:58:24.984097Z",
     "start_time": "2025-02-16T20:58:24.980803Z"
    }
   },
   "source": [],
   "outputs": [],
   "execution_count": null
  }
 ],
 "metadata": {
  "kernelspec": {
   "display_name": "Python [conda env:base] *",
   "language": "python",
   "name": "conda-base-py"
  },
  "language_info": {
   "codemirror_mode": {
    "name": "ipython",
    "version": 3
   },
   "file_extension": ".py",
   "mimetype": "text/x-python",
   "name": "python",
   "nbconvert_exporter": "python",
   "pygments_lexer": "ipython3",
   "version": "3.12.7"
  }
 },
 "nbformat": 4,
 "nbformat_minor": 5
}
