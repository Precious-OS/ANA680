{
 "cells": [
  {
   "cell_type": "code",
   "execution_count": 12,
   "id": "579ce690-701e-4bb5-9cbe-8f3ce4b4f138",
   "metadata": {},
   "outputs": [
    {
     "name": "stderr",
     "output_type": "stream",
     "text": [
      "C:\\Users\\Precious\\anaconda3\\Lib\\site-packages\\sklearn\\ensemble\\_forest.py:615: UserWarning: Some inputs do not have OOB scores. This probably means too few trees were used to compute any reliable OOB estimates.\n",
      "  warn(\n"
     ]
    },
    {
     "name": "stdout",
     "output_type": "stream",
     "text": [
      "Random Forest Performance:\n",
      "- Out-of-Bag Accuracy: 0.9570\n",
      "- Cross-Validation Accuracy (5-fold): 0.9706\n",
      "- Test Accuracy: 0.9649\n",
      "- Precision: 0.922 | Recall: 0.983\n",
      "- F1-Score: 0.952\n",
      "\n",
      "Top 5 Features:\n",
      "Uniformity_of_cell_shape: 0.3427\n",
      "Bland_chromatin: 0.1566\n",
      "Uniformity_of_cell_size: 0.1530\n",
      "Bare_nuclei: 0.1197\n",
      "Normal_nucleoli: 0.0805\n"
     ]
    },
    {
     "data": {
      "text/html": [
       "<div>\n",
       "<style scoped>\n",
       "    .dataframe tbody tr th:only-of-type {\n",
       "        vertical-align: middle;\n",
       "    }\n",
       "\n",
       "    .dataframe tbody tr th {\n",
       "        vertical-align: top;\n",
       "    }\n",
       "\n",
       "    .dataframe thead th {\n",
       "        text-align: right;\n",
       "    }\n",
       "</style>\n",
       "<table border=\"1\" class=\"dataframe\">\n",
       "  <thead>\n",
       "    <tr style=\"text-align: right;\">\n",
       "      <th></th>\n",
       "      <th>Predicted Benign</th>\n",
       "      <th>Predicted Malignant</th>\n",
       "    </tr>\n",
       "  </thead>\n",
       "  <tbody>\n",
       "    <tr>\n",
       "      <th>Actual Benign (TN/FP)</th>\n",
       "      <td>106</td>\n",
       "      <td>5</td>\n",
       "    </tr>\n",
       "    <tr>\n",
       "      <th>Actual Malignant (FN/TP)</th>\n",
       "      <td>1</td>\n",
       "      <td>59</td>\n",
       "    </tr>\n",
       "  </tbody>\n",
       "</table>\n",
       "</div>"
      ],
      "text/plain": [
       "                          Predicted Benign  Predicted Malignant\n",
       "Actual Benign (TN/FP)                  106                    5\n",
       "Actual Malignant (FN/TP)                 1                   59"
      ]
     },
     "execution_count": 12,
     "metadata": {},
     "output_type": "execute_result"
    }
   ],
   "source": [
    "from ucimlrepo import fetch_ucirepo\n",
    "import pandas as pd\n",
    "import numpy as np\n",
    "from sklearn.ensemble import RandomForestClassifier\n",
    "from sklearn.model_selection import train_test_split, cross_val_score\n",
    "from sklearn.metrics import accuracy_score, confusion_matrix, precision_score, recall_score, f1_score\n",
    "\n",
    "# Load and preprocess data\n",
    "breast_cancer = fetch_ucirepo(id=15)\n",
    "X = breast_cancer.data.features.replace('?', np.nan).apply(pd.to_numeric).dropna()\n",
    "y = breast_cancer.data.targets.loc[X.index].replace({2:0, 4:1})\n",
    "\n",
    "# Split data\n",
    "X_train, X_test, y_train, y_test = train_test_split(X, y, test_size=0.25, random_state=42, stratify=y)\n",
    "\n",
    "# Configure Random Forest\n",
    "rf = RandomForestClassifier(n_estimators=10, max_depth=5, max_features='sqrt', oob_score=True, random_state=42)\n",
    "rf.fit(X_train, y_train.values.ravel())\n",
    "\n",
    "# Ensemble analysis\n",
    "oob_score = rf.oob_score_\n",
    "cv_scores = cross_val_score(rf, X_train, y_train.values.ravel(), cv=5)\n",
    "\n",
    "# Predictions and evaluation\n",
    "y_pred = rf.predict(X_test)\n",
    "conf_matrix = confusion_matrix(y_test, y_pred)\n",
    "\n",
    "# Performance metrics\n",
    "metrics = {\n",
    "    'Accuracy': accuracy_score(y_test, y_pred),\n",
    "    'Precision': precision_score(y_test, y_pred),\n",
    "    'Recall': recall_score(y_test, y_pred),\n",
    "    'F1-Score': f1_score(y_test, y_pred),\n",
    "    'OOB Score': oob_score,\n",
    "    'CV Mean Score': cv_scores.mean()\n",
    "}\n",
    "\n",
    "# Display results\n",
    "print(\"Random Forest Performance:\")\n",
    "print(f\"- Out-of-Bag Accuracy: {metrics['OOB Score']:.4f}\")\n",
    "print(f\"- Cross-Validation Accuracy (5-fold): {metrics['CV Mean Score']:.4f}\")\n",
    "print(f\"- Test Accuracy: {metrics['Accuracy']:.4f}\")\n",
    "print(f\"- Precision: {metrics['Precision']:.3f} | Recall: {metrics['Recall']:.3f}\")\n",
    "print(f\"- F1-Score: {metrics['F1-Score']:.3f}\\n\")\n",
    "\n",
    "# Get feature importances and sort them\n",
    "importances = rf.feature_importances_\n",
    "sorted_idx = np.argsort(importances)[::-1] \n",
    "\n",
    "print(\"Top 5 Features:\")\n",
    "for i in sorted_idx[:5]:\n",
    "    print(f\"{X.columns[i]}: {importances[i]:.4f}\")\n",
    "\n",
    "pd.DataFrame(conf_matrix,\n",
    "             index=['Actual Benign (TN/FP)', 'Actual Malignant (FN/TP)'],\n",
    "             columns=['Predicted Benign', 'Predicted Malignant'])"
   ]
  },
  {
   "cell_type": "code",
   "execution_count": null,
   "id": "871dae32-4365-4326-be50-66cc392dc69c",
   "metadata": {},
   "outputs": [],
   "source": []
  }
 ],
 "metadata": {
  "kernelspec": {
   "display_name": "Python [conda env:base] *",
   "language": "python",
   "name": "conda-base-py"
  },
  "language_info": {
   "codemirror_mode": {
    "name": "ipython",
    "version": 3
   },
   "file_extension": ".py",
   "mimetype": "text/x-python",
   "name": "python",
   "nbconvert_exporter": "python",
   "pygments_lexer": "ipython3",
   "version": "3.12.7"
  }
 },
 "nbformat": 4,
 "nbformat_minor": 5
}
